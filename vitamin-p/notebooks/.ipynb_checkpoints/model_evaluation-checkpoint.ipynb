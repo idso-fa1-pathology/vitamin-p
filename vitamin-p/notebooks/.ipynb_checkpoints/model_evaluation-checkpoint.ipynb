{
 "cells": [
  {
   "cell_type": "code",
   "execution_count": null,
   "metadata": {},
   "outputs": [],
   "source": [
    "# Load configurations\n",
    "import yaml\n",
    "import os\n",
    "\n",
    "def load_config(config_path):\n",
    "    with open(config_path, 'r') as file:\n",
    "        return yaml.safe_load(file)\n",
    "\n",
    "data_config = load_config('../configs/data_config.yaml')\n",
    "model_config = load_config('../configs/model_config.yaml')\n",
    "training_config = load_config('../configs/training_config.yaml')\n",
    "\n",
    "# Load the trained model\n",
    "checkpoint_path = training_config['model_checkpoint_path']\n",
    "model_path = os.path.join(checkpoint_path, 'model.h5')\n",
    "\n",
    "if not os.path.exists(model_path):\n",
    "    raise FileNotFoundError(f\"Model file not found at {model_path}\")\n",
    "\n",
    "model = tf.keras.models.load_model(model_path)\n",
    "print(f\"Model loaded from {model_path}\")\n",
    "\n",
    "# Display model summary\n",
    "model.summary()"
   ]
  }
 ],
 "metadata": {
  "language_info": {
   "name": "python"
  }
 },
 "nbformat": 4,
 "nbformat_minor": 2
}
